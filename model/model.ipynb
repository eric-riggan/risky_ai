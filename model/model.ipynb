{
 "cells": [
  {
   "cell_type": "code",
   "execution_count": 5,
   "metadata": {},
   "outputs": [],
   "source": [
    "import pyodbc\n",
    "import pandas as pd\n",
    "import numpy as np\n",
    "import sqlalchemy as sa\n",
    "from matplotlib import pyplot as plt\n",
    "import seaborn as sns\n",
    "from scipy.stats import norm, binom\n",
    "import statsmodels.api as sm\n",
    "from sklearn.model_selection import (train_test_split, GridSearchCV)\n",
    "from sklearn.linear_model import LogisticRegression\n",
    "from statsmodels.tools.tools import add_constant\n",
    "import json\n",
    "import yaml\n",
    "import xgboost as xgb\n",
    "from sklearn.metrics import (\n",
    "    confusion_matrix,\n",
    "    roc_curve,\n",
    "    roc_auc_score,\n",
    "    accuracy_score,\n",
    "    recall_score,\n",
    "    precision_score,\n",
    "    f1_score,\n",
    "    make_scorer\n",
    ")\n",
    "with open('../risk/auth/db_auth.yaml', 'r') as stream:\n",
    "    config = yaml.safe_load(stream)\n",
    "    connstring = f\"DRIVER={{{config['driver']}}};SERVER={config['server']};DATABASE={config['database']};UID={config['username']};PWD={config['password']};Encrypt=YES;TrustServerCertificate=YES\"\n"
   ]
  },
  {
   "cell_type": "code",
   "execution_count": 6,
   "metadata": {},
   "outputs": [],
   "source": [
    "def get_model_scores(model, x, y, title):\n",
    "    \"\"\"\n",
    "    Function to get scores for classification models.\n",
    "    :param model: classification model\n",
    "    :param x: endogenous (independent) features\n",
    "    :param y: exogenous (dependent) feature\n",
    "    :threshold: Threshold above which the observation is classified as 1\n",
    "    :returns: Pandas DataFrame with scores\n",
    "    \"\"\"\n",
    "    pred = np.round(model.predict(x))\n",
    "    df_performance = pd.DataFrame(\n",
    "        {   'Title': title,\n",
    "            'Accuracy': accuracy_score(y, pred),\n",
    "            'Recall': recall_score(y, pred),\n",
    "            'Precision': precision_score(y, pred),\n",
    "            'F1 Score': f1_score(y, pred)\n",
    "        },\n",
    "        index=[0]\n",
    "    )\n",
    "    return df_performance"
   ]
  },
  {
   "cell_type": "code",
   "execution_count": 7,
   "metadata": {},
   "outputs": [],
   "source": [
    "def make_confusion_matrix(model, x, y, labels=[1, 0], threshold=.5):\n",
    "    \"\"\"\n",
    "    Create confusion matrix with labels for true / false and pos / neg\n",
    "    :param model: statistical model to create confusion matrix on\n",
    "    :param x: endogenous variables of model. Used to create predictions,\n",
    "              which in turn are used to compare against y in creating the matrix\n",
    "    :param y: exogenous variable to compare against predicted y vals\n",
    "    :returns: Seaborn Heatmap \n",
    "    \"\"\"\n",
    "    # Make predictions using model\n",
    "    y_pred = model.predict(x) > threshold\n",
    "    # get confustion matrix values\n",
    "    conf_matrix = confusion_matrix(y, y_pred, labels=[0, 1])\n",
    "    # Convert confusion matrix to dataframe\n",
    "    df_cm = pd.DataFrame(\n",
    "        data=conf_matrix,\n",
    "        index = [ i for i in ['Actual - No', 'Actual - Yes']],\n",
    "        columns = [i for i in ['Predicted - No', 'Predicted - Yes']]\n",
    "    )\n",
    "    # Set group names for True / False and Pos / Neg\n",
    "    group_names = ['True Neg', 'False Pos', 'False Neg', 'True Pos']\n",
    "    # Count values in each group\n",
    "    group_counts = ['{0:0.0f}'.format(value) for value in conf_matrix.flatten()]\n",
    "    # Calculate pct of total each group represents\n",
    "    group_percentages = ['{0:.2%}'.format(value) for value in conf_matrix.flatten()/np.sum(conf_matrix)]\n",
    "    # Convert group names etc into lables for chart\n",
    "    labels = [f'{v1}\\n{v2}\\n{v3}' for v1, v2, v3 in zip(group_names, group_counts, group_percentages)]\n",
    "    # reshape the label array for sns.heatmap\n",
    "    labels = np.asarray(labels).reshape(2,2)\n",
    "    plt.figure(figsize = (10,7))\n",
    "    # Create heatmap\n",
    "    sns.heatmap(\n",
    "        data=df_cm,\n",
    "        annot=labels,\n",
    "        fmt='',\n",
    "        cmap='Blues'\n",
    "    )\n",
    "    plt.ylabel('True Values')\n",
    "    plt.xlabel('Predicted Values')"
   ]
  },
  {
   "cell_type": "code",
   "execution_count": 8,
   "metadata": {},
   "outputs": [],
   "source": [
    "def get_class_model_scores(model, x, y, threshold = .5):\n",
    "    \"\"\"\n",
    "    Function to get scores for classification models.\n",
    "    :param model: classification model\n",
    "    :param x: endogenous (independent) features\n",
    "    :param y: exogenous (dependent) feature\n",
    "    :threshold: Threshold above which the observation is classified as 1\n",
    "    :returns: Pandas DataFrame with scores\n",
    "    \"\"\"\n",
    "    pred = np.round(model.predict(x) > threshold)\n",
    "    df_performance = pd.DataFrame(\n",
    "        {\n",
    "            'Accuracy': accuracy_score(y, pred),\n",
    "            'Recall': recall_score(y, pred),\n",
    "            'Precision': precision_score(y, pred),\n",
    "            'F1 Score': f1_score(y, pred)\n",
    "        },\n",
    "        index=[0]\n",
    "    )\n",
    "    return df_performance"
   ]
  },
  {
   "cell_type": "code",
   "execution_count": 9,
   "metadata": {},
   "outputs": [],
   "source": [
    "query = \"\"\"\n",
    "        SELECT [sg].[atk_strength],\n",
    "               [sg].[def_strength],\n",
    "               [sg].[atk_losses],\n",
    "               [sg].[def_losses],\n",
    "               [sg].[outcome]\n",
    "          FROM sim.sim_games sg;\n",
    "        \"\"\""
   ]
  },
  {
   "cell_type": "code",
   "execution_count": 10,
   "metadata": {},
   "outputs": [
    {
     "data": {
      "text/html": [
       "<div>\n",
       "<style scoped>\n",
       "    .dataframe tbody tr th:only-of-type {\n",
       "        vertical-align: middle;\n",
       "    }\n",
       "\n",
       "    .dataframe tbody tr th {\n",
       "        vertical-align: top;\n",
       "    }\n",
       "\n",
       "    .dataframe thead th {\n",
       "        text-align: right;\n",
       "    }\n",
       "</style>\n",
       "<table border=\"1\" class=\"dataframe\">\n",
       "  <thead>\n",
       "    <tr style=\"text-align: right;\">\n",
       "      <th></th>\n",
       "      <th>atk_strength</th>\n",
       "      <th>def_strength</th>\n",
       "      <th>atk_losses</th>\n",
       "      <th>def_losses</th>\n",
       "      <th>outcome</th>\n",
       "    </tr>\n",
       "  </thead>\n",
       "  <tbody>\n",
       "    <tr>\n",
       "      <th>0</th>\n",
       "      <td>1</td>\n",
       "      <td>1</td>\n",
       "      <td>0</td>\n",
       "      <td>1</td>\n",
       "      <td>True</td>\n",
       "    </tr>\n",
       "    <tr>\n",
       "      <th>1</th>\n",
       "      <td>1</td>\n",
       "      <td>1</td>\n",
       "      <td>1</td>\n",
       "      <td>0</td>\n",
       "      <td>False</td>\n",
       "    </tr>\n",
       "    <tr>\n",
       "      <th>2</th>\n",
       "      <td>1</td>\n",
       "      <td>1</td>\n",
       "      <td>0</td>\n",
       "      <td>1</td>\n",
       "      <td>True</td>\n",
       "    </tr>\n",
       "    <tr>\n",
       "      <th>3</th>\n",
       "      <td>1</td>\n",
       "      <td>1</td>\n",
       "      <td>1</td>\n",
       "      <td>0</td>\n",
       "      <td>False</td>\n",
       "    </tr>\n",
       "    <tr>\n",
       "      <th>4</th>\n",
       "      <td>1</td>\n",
       "      <td>1</td>\n",
       "      <td>0</td>\n",
       "      <td>1</td>\n",
       "      <td>True</td>\n",
       "    </tr>\n",
       "    <tr>\n",
       "      <th>...</th>\n",
       "      <td>...</td>\n",
       "      <td>...</td>\n",
       "      <td>...</td>\n",
       "      <td>...</td>\n",
       "      <td>...</td>\n",
       "    </tr>\n",
       "    <tr>\n",
       "      <th>8999995</th>\n",
       "      <td>30</td>\n",
       "      <td>30</td>\n",
       "      <td>30</td>\n",
       "      <td>23</td>\n",
       "      <td>False</td>\n",
       "    </tr>\n",
       "    <tr>\n",
       "      <th>8999996</th>\n",
       "      <td>30</td>\n",
       "      <td>30</td>\n",
       "      <td>30</td>\n",
       "      <td>29</td>\n",
       "      <td>False</td>\n",
       "    </tr>\n",
       "    <tr>\n",
       "      <th>8999997</th>\n",
       "      <td>30</td>\n",
       "      <td>30</td>\n",
       "      <td>13</td>\n",
       "      <td>30</td>\n",
       "      <td>True</td>\n",
       "    </tr>\n",
       "    <tr>\n",
       "      <th>8999998</th>\n",
       "      <td>30</td>\n",
       "      <td>30</td>\n",
       "      <td>18</td>\n",
       "      <td>30</td>\n",
       "      <td>True</td>\n",
       "    </tr>\n",
       "    <tr>\n",
       "      <th>8999999</th>\n",
       "      <td>30</td>\n",
       "      <td>30</td>\n",
       "      <td>28</td>\n",
       "      <td>30</td>\n",
       "      <td>True</td>\n",
       "    </tr>\n",
       "  </tbody>\n",
       "</table>\n",
       "<p>9000000 rows × 5 columns</p>\n",
       "</div>"
      ],
      "text/plain": [
       "         atk_strength  def_strength  atk_losses  def_losses  outcome\n",
       "0                   1             1           0           1     True\n",
       "1                   1             1           1           0    False\n",
       "2                   1             1           0           1     True\n",
       "3                   1             1           1           0    False\n",
       "4                   1             1           0           1     True\n",
       "...               ...           ...         ...         ...      ...\n",
       "8999995            30            30          30          23    False\n",
       "8999996            30            30          30          29    False\n",
       "8999997            30            30          13          30     True\n",
       "8999998            30            30          18          30     True\n",
       "8999999            30            30          28          30     True\n",
       "\n",
       "[9000000 rows x 5 columns]"
      ]
     },
     "execution_count": 10,
     "metadata": {},
     "output_type": "execute_result"
    }
   ],
   "source": [
    "with pyodbc.connect(connstring) as conn:\n",
    "    cur = conn.cursor()\n",
    "    # cur.execute('SELECT @@version')\n",
    "    # print(cur.fetchone())\n",
    "    cur.execute(query)\n",
    "    df = pd.DataFrame.from_records(\n",
    "        cur.fetchall(),\n",
    "        columns=[col[0] for col in cur.description],\n",
    "    )\n",
    "    cur.close()\n",
    "\n",
    "df"
   ]
  },
  {
   "cell_type": "code",
   "execution_count": 11,
   "metadata": {},
   "outputs": [],
   "source": [
    "df['outcome'] = df['outcome'].astype(np.float64)\n",
    "\n",
    "x = df[['atk_strength', 'def_strength']].copy()\n",
    "outcome = df['outcome'].copy()\n",
    "atk_losses = df['atk_losses'].copy()\n",
    "def_losses = df['def_losses'].copy()\n",
    "del df"
   ]
  },
  {
   "cell_type": "code",
   "execution_count": 12,
   "metadata": {},
   "outputs": [],
   "source": [
    "# x = add_constant(x)\n",
    "x_train, x_test, outcome_train, outcome_test = train_test_split(\n",
    "    x,\n",
    "    outcome,\n",
    "    test_size=.3,\n",
    "    stratify=outcome\n",
    ")\n"
   ]
  },
  {
   "cell_type": "code",
   "execution_count": 9,
   "metadata": {},
   "outputs": [
    {
     "name": "stdout",
     "output_type": "stream",
     "text": [
      "Optimization terminated successfully.\n",
      "         Current function value: 0.289746\n",
      "         Iterations 8\n"
     ]
    }
   ],
   "source": [
    "model = sm.Logit(outcome_train, x_train).fit()"
   ]
  },
  {
   "cell_type": "code",
   "execution_count": 10,
   "metadata": {},
   "outputs": [
    {
     "data": {
      "text/html": [
       "<table class=\"simpletable\">\n",
       "<caption>Logit Regression Results</caption>\n",
       "<tr>\n",
       "  <th>Dep. Variable:</th>        <td>outcome</td>     <th>  No. Observations:  </th>   <td>6300000</td>  \n",
       "</tr>\n",
       "<tr>\n",
       "  <th>Model:</th>                 <td>Logit</td>      <th>  Df Residuals:      </th>   <td>6299998</td>  \n",
       "</tr>\n",
       "<tr>\n",
       "  <th>Method:</th>                 <td>MLE</td>       <th>  Df Model:          </th>   <td>     1</td>   \n",
       "</tr>\n",
       "<tr>\n",
       "  <th>Date:</th>            <td>Sat, 03 Sep 2022</td> <th>  Pseudo R-squ.:     </th>   <td>0.5798</td>   \n",
       "</tr>\n",
       "<tr>\n",
       "  <th>Time:</th>                <td>16:30:20</td>     <th>  Log-Likelihood:    </th> <td>-1.8254e+06</td>\n",
       "</tr>\n",
       "<tr>\n",
       "  <th>converged:</th>             <td>True</td>       <th>  LL-Null:           </th> <td>-4.3438e+06</td>\n",
       "</tr>\n",
       "<tr>\n",
       "  <th>Covariance Type:</th>     <td>nonrobust</td>    <th>  LLR p-value:       </th>   <td> 0.000</td>   \n",
       "</tr>\n",
       "</table>\n",
       "<table class=\"simpletable\">\n",
       "<tr>\n",
       "        <td></td>          <th>coef</th>     <th>std err</th>      <th>z</th>      <th>P>|z|</th>  <th>[0.025</th>    <th>0.975]</th>  \n",
       "</tr>\n",
       "<tr>\n",
       "  <th>atk_strength</th> <td>    0.3242</td> <td>    0.000</td> <td> 1201.023</td> <td> 0.000</td> <td>    0.324</td> <td>    0.325</td>\n",
       "</tr>\n",
       "<tr>\n",
       "  <th>def_strength</th> <td>   -0.2917</td> <td>    0.000</td> <td>-1172.278</td> <td> 0.000</td> <td>   -0.292</td> <td>   -0.291</td>\n",
       "</tr>\n",
       "</table>"
      ],
      "text/plain": [
       "<class 'statsmodels.iolib.summary.Summary'>\n",
       "\"\"\"\n",
       "                           Logit Regression Results                           \n",
       "==============================================================================\n",
       "Dep. Variable:                outcome   No. Observations:              6300000\n",
       "Model:                          Logit   Df Residuals:                  6299998\n",
       "Method:                           MLE   Df Model:                            1\n",
       "Date:                Sat, 03 Sep 2022   Pseudo R-squ.:                  0.5798\n",
       "Time:                        16:30:20   Log-Likelihood:            -1.8254e+06\n",
       "converged:                       True   LL-Null:                   -4.3438e+06\n",
       "Covariance Type:            nonrobust   LLR p-value:                     0.000\n",
       "================================================================================\n",
       "                   coef    std err          z      P>|z|      [0.025      0.975]\n",
       "--------------------------------------------------------------------------------\n",
       "atk_strength     0.3242      0.000   1201.023      0.000       0.324       0.325\n",
       "def_strength    -0.2917      0.000  -1172.278      0.000      -0.292      -0.291\n",
       "================================================================================\n",
       "\"\"\""
      ]
     },
     "execution_count": 10,
     "metadata": {},
     "output_type": "execute_result"
    }
   ],
   "source": [
    "model.summary()"
   ]
  },
  {
   "cell_type": "code",
   "execution_count": 11,
   "metadata": {},
   "outputs": [],
   "source": [
    "outcome_pred_train = model.predict(x_train) > .5\n",
    "outcome_pred_train = np.round(outcome_pred_train)"
   ]
  },
  {
   "cell_type": "code",
   "execution_count": 12,
   "metadata": {},
   "outputs": [
    {
     "data": {
      "image/png": "[encoded data removed]",
      "text/plain": [
       "<Figure size 1000x700 with 2 Axes>"
      ]
     },
     "metadata": {},
     "output_type": "display_data"
    }
   ],
   "source": [
    "make_confusion_matrix(\n",
    "    model=model,\n",
    "    x=x_train,\n",
    "    y=outcome_pred_train\n",
    ")"
   ]
  },
  {
   "cell_type": "code",
   "execution_count": 13,
   "metadata": {},
   "outputs": [
    {
     "data": {
      "text/html": [
       "<div>\n",
       "<style scoped>\n",
       "    .dataframe tbody tr th:only-of-type {\n",
       "        vertical-align: middle;\n",
       "    }\n",
       "\n",
       "    .dataframe tbody tr th {\n",
       "        vertical-align: top;\n",
       "    }\n",
       "\n",
       "    .dataframe thead th {\n",
       "        text-align: right;\n",
       "    }\n",
       "</style>\n",
       "<table border=\"1\" class=\"dataframe\">\n",
       "  <thead>\n",
       "    <tr style=\"text-align: right;\">\n",
       "      <th></th>\n",
       "      <th>atk_strength</th>\n",
       "      <th>def_strength</th>\n",
       "    </tr>\n",
       "  </thead>\n",
       "  <tbody>\n",
       "    <tr>\n",
       "      <th>odds</th>\n",
       "      <td>1.3829</td>\n",
       "      <td>0.747012</td>\n",
       "    </tr>\n",
       "  </tbody>\n",
       "</table>\n",
       "</div>"
      ],
      "text/plain": [
       "      atk_strength  def_strength\n",
       "odds        1.3829      0.747012"
      ]
     },
     "execution_count": 13,
     "metadata": {},
     "output_type": "execute_result"
    }
   ],
   "source": [
    "odds = np.exp(model.params)\n",
    "pd.DataFrame(odds, x_train.columns, columns=['odds']).T"
   ]
  },
  {
   "cell_type": "code",
   "execution_count": 14,
   "metadata": {},
   "outputs": [
    {
     "data": {
      "text/html": [
       "<div>\n",
       "<style scoped>\n",
       "    .dataframe tbody tr th:only-of-type {\n",
       "        vertical-align: middle;\n",
       "    }\n",
       "\n",
       "    .dataframe tbody tr th {\n",
       "        vertical-align: top;\n",
       "    }\n",
       "\n",
       "    .dataframe thead th {\n",
       "        text-align: right;\n",
       "    }\n",
       "</style>\n",
       "<table border=\"1\" class=\"dataframe\">\n",
       "  <thead>\n",
       "    <tr style=\"text-align: right;\">\n",
       "      <th></th>\n",
       "      <th>atk_strength</th>\n",
       "      <th>def_strength</th>\n",
       "    </tr>\n",
       "  </thead>\n",
       "  <tbody>\n",
       "    <tr>\n",
       "      <th>change_odds%</th>\n",
       "      <td>38.290002</td>\n",
       "      <td>-25.298792</td>\n",
       "    </tr>\n",
       "  </tbody>\n",
       "</table>\n",
       "</div>"
      ],
      "text/plain": [
       "              atk_strength  def_strength\n",
       "change_odds%     38.290002    -25.298792"
      ]
     },
     "execution_count": 14,
     "metadata": {},
     "output_type": "execute_result"
    }
   ],
   "source": [
    "perc_change_odds = (np.exp(model.params) -1 ) * 100\n",
    "\n",
    "pd.DataFrame(perc_change_odds, x_train.columns, columns=['change_odds%']).T"
   ]
  },
  {
   "cell_type": "code",
   "execution_count": 15,
   "metadata": {},
   "outputs": [
    {
     "data": {
      "image/png": "[encoded data removed]",
      "text/plain": [
       "<Figure size 700x500 with 1 Axes>"
      ]
     },
     "metadata": {},
     "output_type": "display_data"
    }
   ],
   "source": [
    "logit_roc_auc_train = roc_auc_score(\n",
    "    y_true=outcome_train,\n",
    "    y_score=model.predict(x_train)\n",
    ")\n",
    "fpr, tpr, thresholds = roc_curve(\n",
    "    y_true=outcome_train,\n",
    "    y_score=model.predict(x_train)\n",
    ")\n",
    "plt.figure(figsize=(7, 5))\n",
    "plt.plot(fpr, tpr, label=\"Logistic Regression (area = %0.2f)\" % logit_roc_auc_train)\n",
    "plt.plot([0, 1], [0, 1], \"r--\")\n",
    "plt.xlim([0.0, 1.0])\n",
    "plt.ylim([0.0, 1.05])\n",
    "plt.xlabel(\"False Positive Rate\")\n",
    "plt.ylabel(\"True Positive Rate\")\n",
    "plt.title(\"Receiver operating characteristic\")\n",
    "plt.legend(loc=\"lower right\")\n",
    "plt.show()"
   ]
  },
  {
   "cell_type": "code",
   "execution_count": 16,
   "metadata": {},
   "outputs": [],
   "source": [
    "outcome_pred_test = model.predict(x_test) > .5\n",
    "outcome_pred_test = np.round(outcome_pred_test)"
   ]
  },
  {
   "cell_type": "code",
   "execution_count": 17,
   "metadata": {},
   "outputs": [
    {
     "data": {
      "image/png": "[encoded data removed]",
      "text/plain": [
       "<Figure size 1000x700 with 2 Axes>"
      ]
     },
     "metadata": {},
     "output_type": "display_data"
    }
   ],
   "source": [
    "make_confusion_matrix(\n",
    "    model=model,\n",
    "    x=x_test,\n",
    "    y=outcome_test\n",
    ")"
   ]
  },
  {
   "cell_type": "code",
   "execution_count": 18,
   "metadata": {},
   "outputs": [
    {
     "name": "stdout",
     "output_type": "stream",
     "text": [
      "0.5488334551222288\n"
     ]
    }
   ],
   "source": [
    "outcome_optimal_index = np.argmax(tpr - fpr)\n",
    "outcome_optimal_threshold_roc_auc = thresholds[outcome_optimal_index]\n",
    "print(outcome_optimal_threshold_roc_auc)"
   ]
  },
  {
   "cell_type": "code",
   "execution_count": 19,
   "metadata": {},
   "outputs": [
    {
     "data": {
      "image/png": "[encoded data removed]",
      "text/plain": [
       "<Figure size 1000x700 with 2 Axes>"
      ]
     },
     "metadata": {},
     "output_type": "display_data"
    }
   ],
   "source": [
    "make_confusion_matrix(\n",
    "    model=model,\n",
    "    x=x_test,\n",
    "    y=outcome_test,\n",
    "    threshold=outcome_optimal_threshold_roc_auc\n",
    ")"
   ]
  },
  {
   "cell_type": "code",
   "execution_count": 20,
   "metadata": {},
   "outputs": [
    {
     "data": {
      "text/html": [
       "<div>\n",
       "<style scoped>\n",
       "    .dataframe tbody tr th:only-of-type {\n",
       "        vertical-align: middle;\n",
       "    }\n",
       "\n",
       "    .dataframe tbody tr th {\n",
       "        vertical-align: top;\n",
       "    }\n",
       "\n",
       "    .dataframe thead th {\n",
       "        text-align: right;\n",
       "    }\n",
       "</style>\n",
       "<table border=\"1\" class=\"dataframe\">\n",
       "  <thead>\n",
       "    <tr style=\"text-align: right;\">\n",
       "      <th></th>\n",
       "      <th>Accuracy</th>\n",
       "      <th>Recall</th>\n",
       "      <th>Precision</th>\n",
       "      <th>F1 Score</th>\n",
       "    </tr>\n",
       "  </thead>\n",
       "  <tbody>\n",
       "    <tr>\n",
       "      <th>0</th>\n",
       "      <td>0.87137</td>\n",
       "      <td>0.870802</td>\n",
       "      <td>0.889828</td>\n",
       "      <td>0.880212</td>\n",
       "    </tr>\n",
       "  </tbody>\n",
       "</table>\n",
       "</div>"
      ],
      "text/plain": [
       "   Accuracy    Recall  Precision  F1 Score\n",
       "0   0.87137  0.870802   0.889828  0.880212"
      ]
     },
     "execution_count": 20,
     "metadata": {},
     "output_type": "execute_result"
    }
   ],
   "source": [
    "get_class_model_scores(\n",
    "    model=model,\n",
    "    x=x_test,\n",
    "    y=outcome_test,\n",
    "    threshold=outcome_optimal_threshold_roc_auc\n",
    ")"
   ]
  },
  {
   "cell_type": "code",
   "execution_count": 21,
   "metadata": {},
   "outputs": [
    {
     "data": {
      "text/html": [
       "<div>\n",
       "<style scoped>\n",
       "    .dataframe tbody tr th:only-of-type {\n",
       "        vertical-align: middle;\n",
       "    }\n",
       "\n",
       "    .dataframe tbody tr th {\n",
       "        vertical-align: top;\n",
       "    }\n",
       "\n",
       "    .dataframe thead th {\n",
       "        text-align: right;\n",
       "    }\n",
       "</style>\n",
       "<table border=\"1\" class=\"dataframe\">\n",
       "  <thead>\n",
       "    <tr style=\"text-align: right;\">\n",
       "      <th></th>\n",
       "      <th>Accuracy</th>\n",
       "      <th>Recall</th>\n",
       "      <th>Precision</th>\n",
       "      <th>F1 Score</th>\n",
       "    </tr>\n",
       "  </thead>\n",
       "  <tbody>\n",
       "    <tr>\n",
       "      <th>0</th>\n",
       "      <td>0.871561</td>\n",
       "      <td>0.891689</td>\n",
       "      <td>0.874169</td>\n",
       "      <td>0.882842</td>\n",
       "    </tr>\n",
       "  </tbody>\n",
       "</table>\n",
       "</div>"
      ],
      "text/plain": [
       "   Accuracy    Recall  Precision  F1 Score\n",
       "0  0.871561  0.891689   0.874169  0.882842"
      ]
     },
     "execution_count": 21,
     "metadata": {},
     "output_type": "execute_result"
    }
   ],
   "source": [
    "get_class_model_scores(\n",
    "    model=model,\n",
    "    x=x_test,\n",
    "    y=outcome_test\n",
    ")"
   ]
  },
  {
   "cell_type": "code",
   "execution_count": 22,
   "metadata": {},
   "outputs": [
    {
     "data": {
      "text/plain": [
       "0    0.451615\n",
       "dtype: float64"
      ]
     },
     "execution_count": 22,
     "metadata": {},
     "output_type": "execute_result"
    }
   ],
   "source": [
    "atk_str = 3\n",
    "def_str = 4\n",
    "prediction = model.predict(\n",
    "    pd.DataFrame(\n",
    "        {\n",
    "            #'const': 1.0,\n",
    "            'atk_strength': atk_str,\n",
    "            'def_strength': def_str\n",
    "        },\n",
    "        index=[0]\n",
    "    )\n",
    ")\n",
    "\n",
    "prediction"
   ]
  },
  {
   "cell_type": "code",
   "execution_count": 23,
   "metadata": {},
   "outputs": [
    {
     "data": {
      "text/plain": [
       "0    0.540547\n",
       "dtype: float64"
      ]
     },
     "execution_count": 23,
     "metadata": {},
     "output_type": "execute_result"
    }
   ],
   "source": [
    "atk_str = 5\n",
    "def_str = 5\n",
    "prediction = model.predict(\n",
    "    pd.DataFrame(\n",
    "        {\n",
    "            #'const': 1.0,\n",
    "            'atk_strength': atk_str,\n",
    "            'def_strength': def_str\n",
    "        },\n",
    "        index=[0]\n",
    "    )\n",
    ")\n",
    "\n",
    "prediction"
   ]
  },
  {
   "cell_type": "code",
   "execution_count": 24,
   "metadata": {},
   "outputs": [
    {
     "name": "stdout",
     "output_type": "stream",
     "text": [
      "[0]\tvalidation_0-auc:0.94867\tvalidation_1-auc:0.94855\n",
      "[1]\tvalidation_0-auc:0.95035\tvalidation_1-auc:0.95022\n",
      "[2]\tvalidation_0-auc:0.95102\tvalidation_1-auc:0.95089\n",
      "[3]\tvalidation_0-auc:0.95125\tvalidation_1-auc:0.95112\n",
      "[4]\tvalidation_0-auc:0.95138\tvalidation_1-auc:0.95126\n",
      "[5]\tvalidation_0-auc:0.95145\tvalidation_1-auc:0.95132\n",
      "[6]\tvalidation_0-auc:0.95150\tvalidation_1-auc:0.95137\n",
      "[7]\tvalidation_0-auc:0.95154\tvalidation_1-auc:0.95142\n",
      "[8]\tvalidation_0-auc:0.95157\tvalidation_1-auc:0.95144\n",
      "[9]\tvalidation_0-auc:0.95159\tvalidation_1-auc:0.95146\n",
      "[10]\tvalidation_0-auc:0.95161\tvalidation_1-auc:0.95148\n",
      "[11]\tvalidation_0-auc:0.95162\tvalidation_1-auc:0.95148\n",
      "[12]\tvalidation_0-auc:0.95162\tvalidation_1-auc:0.95149\n",
      "[13]\tvalidation_0-auc:0.95163\tvalidation_1-auc:0.95150\n",
      "[14]\tvalidation_0-auc:0.95164\tvalidation_1-auc:0.95150\n",
      "[15]\tvalidation_0-auc:0.95164\tvalidation_1-auc:0.95150\n",
      "[16]\tvalidation_0-auc:0.95165\tvalidation_1-auc:0.95151\n",
      "[17]\tvalidation_0-auc:0.95165\tvalidation_1-auc:0.95151\n",
      "[18]\tvalidation_0-auc:0.95165\tvalidation_1-auc:0.95151\n",
      "[19]\tvalidation_0-auc:0.95165\tvalidation_1-auc:0.95151\n",
      "[20]\tvalidation_0-auc:0.95165\tvalidation_1-auc:0.95151\n",
      "[21]\tvalidation_0-auc:0.95165\tvalidation_1-auc:0.95151\n",
      "[22]\tvalidation_0-auc:0.95166\tvalidation_1-auc:0.95152\n",
      "[23]\tvalidation_0-auc:0.95166\tvalidation_1-auc:0.95152\n",
      "[24]\tvalidation_0-auc:0.95166\tvalidation_1-auc:0.95152\n",
      "[25]\tvalidation_0-auc:0.95166\tvalidation_1-auc:0.95152\n",
      "[26]\tvalidation_0-auc:0.95166\tvalidation_1-auc:0.95152\n",
      "[27]\tvalidation_0-auc:0.95166\tvalidation_1-auc:0.95152\n",
      "[28]\tvalidation_0-auc:0.95166\tvalidation_1-auc:0.95152\n",
      "[29]\tvalidation_0-auc:0.95166\tvalidation_1-auc:0.95152\n",
      "[30]\tvalidation_0-auc:0.95166\tvalidation_1-auc:0.95152\n",
      "[31]\tvalidation_0-auc:0.95167\tvalidation_1-auc:0.95152\n",
      "[32]\tvalidation_0-auc:0.95167\tvalidation_1-auc:0.95152\n",
      "[33]\tvalidation_0-auc:0.95167\tvalidation_1-auc:0.95152\n",
      "[34]\tvalidation_0-auc:0.95167\tvalidation_1-auc:0.95152\n",
      "[35]\tvalidation_0-auc:0.95167\tvalidation_1-auc:0.95152\n",
      "[36]\tvalidation_0-auc:0.95167\tvalidation_1-auc:0.95152\n",
      "[37]\tvalidation_0-auc:0.95167\tvalidation_1-auc:0.95153\n",
      "[38]\tvalidation_0-auc:0.95167\tvalidation_1-auc:0.95152\n",
      "[39]\tvalidation_0-auc:0.95167\tvalidation_1-auc:0.95153\n",
      "[40]\tvalidation_0-auc:0.95168\tvalidation_1-auc:0.95153\n",
      "[41]\tvalidation_0-auc:0.95168\tvalidation_1-auc:0.95153\n",
      "[42]\tvalidation_0-auc:0.95168\tvalidation_1-auc:0.95153\n",
      "[43]\tvalidation_0-auc:0.95168\tvalidation_1-auc:0.95153\n",
      "[44]\tvalidation_0-auc:0.95168\tvalidation_1-auc:0.95153\n",
      "[45]\tvalidation_0-auc:0.95169\tvalidation_1-auc:0.95154\n",
      "[46]\tvalidation_0-auc:0.95169\tvalidation_1-auc:0.95154\n",
      "[47]\tvalidation_0-auc:0.95169\tvalidation_1-auc:0.95154\n",
      "[48]\tvalidation_0-auc:0.95169\tvalidation_1-auc:0.95154\n",
      "[49]\tvalidation_0-auc:0.95169\tvalidation_1-auc:0.95154\n",
      "[50]\tvalidation_0-auc:0.95169\tvalidation_1-auc:0.95154\n",
      "[51]\tvalidation_0-auc:0.95169\tvalidation_1-auc:0.95154\n",
      "[52]\tvalidation_0-auc:0.95169\tvalidation_1-auc:0.95154\n",
      "[53]\tvalidation_0-auc:0.95169\tvalidation_1-auc:0.95154\n",
      "[54]\tvalidation_0-auc:0.95169\tvalidation_1-auc:0.95154\n",
      "[55]\tvalidation_0-auc:0.95169\tvalidation_1-auc:0.95154\n",
      "[56]\tvalidation_0-auc:0.95169\tvalidation_1-auc:0.95154\n",
      "[57]\tvalidation_0-auc:0.95170\tvalidation_1-auc:0.95154\n",
      "[58]\tvalidation_0-auc:0.95170\tvalidation_1-auc:0.95154\n",
      "[59]\tvalidation_0-auc:0.95170\tvalidation_1-auc:0.95154\n",
      "[60]\tvalidation_0-auc:0.95170\tvalidation_1-auc:0.95154\n",
      "[61]\tvalidation_0-auc:0.95170\tvalidation_1-auc:0.95154\n",
      "[62]\tvalidation_0-auc:0.95170\tvalidation_1-auc:0.95154\n",
      "[63]\tvalidation_0-auc:0.95170\tvalidation_1-auc:0.95154\n",
      "[64]\tvalidation_0-auc:0.95170\tvalidation_1-auc:0.95154\n",
      "[65]\tvalidation_0-auc:0.95170\tvalidation_1-auc:0.95154\n",
      "[66]\tvalidation_0-auc:0.95170\tvalidation_1-auc:0.95154\n",
      "[67]\tvalidation_0-auc:0.95170\tvalidation_1-auc:0.95154\n",
      "[68]\tvalidation_0-auc:0.95170\tvalidation_1-auc:0.95155\n",
      "[69]\tvalidation_0-auc:0.95170\tvalidation_1-auc:0.95155\n",
      "[70]\tvalidation_0-auc:0.95170\tvalidation_1-auc:0.95155\n",
      "[71]\tvalidation_0-auc:0.95170\tvalidation_1-auc:0.95155\n",
      "[72]\tvalidation_0-auc:0.95170\tvalidation_1-auc:0.95155\n",
      "[73]\tvalidation_0-auc:0.95170\tvalidation_1-auc:0.95155\n",
      "[74]\tvalidation_0-auc:0.95170\tvalidation_1-auc:0.95155\n",
      "[75]\tvalidation_0-auc:0.95170\tvalidation_1-auc:0.95155\n",
      "[76]\tvalidation_0-auc:0.95170\tvalidation_1-auc:0.95155\n",
      "[77]\tvalidation_0-auc:0.95170\tvalidation_1-auc:0.95155\n",
      "[78]\tvalidation_0-auc:0.95170\tvalidation_1-auc:0.95155\n",
      "[79]\tvalidation_0-auc:0.95170\tvalidation_1-auc:0.95155\n",
      "[80]\tvalidation_0-auc:0.95170\tvalidation_1-auc:0.95155\n",
      "[81]\tvalidation_0-auc:0.95171\tvalidation_1-auc:0.95155\n",
      "[82]\tvalidation_0-auc:0.95171\tvalidation_1-auc:0.95155\n",
      "[83]\tvalidation_0-auc:0.95171\tvalidation_1-auc:0.95155\n",
      "[84]\tvalidation_0-auc:0.95171\tvalidation_1-auc:0.95155\n",
      "[85]\tvalidation_0-auc:0.95171\tvalidation_1-auc:0.95155\n",
      "[86]\tvalidation_0-auc:0.95171\tvalidation_1-auc:0.95155\n",
      "[87]\tvalidation_0-auc:0.95171\tvalidation_1-auc:0.95155\n",
      "[88]\tvalidation_0-auc:0.95171\tvalidation_1-auc:0.95155\n",
      "[89]\tvalidation_0-auc:0.95171\tvalidation_1-auc:0.95155\n",
      "[90]\tvalidation_0-auc:0.95171\tvalidation_1-auc:0.95155\n",
      "[91]\tvalidation_0-auc:0.95171\tvalidation_1-auc:0.95155\n",
      "[92]\tvalidation_0-auc:0.95171\tvalidation_1-auc:0.95155\n",
      "[93]\tvalidation_0-auc:0.95171\tvalidation_1-auc:0.95155\n",
      "[94]\tvalidation_0-auc:0.95171\tvalidation_1-auc:0.95155\n",
      "[95]\tvalidation_0-auc:0.95171\tvalidation_1-auc:0.95155\n",
      "[96]\tvalidation_0-auc:0.95171\tvalidation_1-auc:0.95155\n",
      "[97]\tvalidation_0-auc:0.95171\tvalidation_1-auc:0.95155\n",
      "[98]\tvalidation_0-auc:0.95171\tvalidation_1-auc:0.95155\n",
      "[99]\tvalidation_0-auc:0.95171\tvalidation_1-auc:0.95155\n",
      "{'objective': 'binary:logistic', 'use_label_encoder': False, 'base_score': 0.5, 'booster': 'gbtree', 'callbacks': None, 'colsample_bylevel': 1, 'colsample_bynode': 1, 'colsample_bytree': 1, 'early_stopping_rounds': None, 'enable_categorical': False, 'eval_metric': 'auc', 'gamma': 0, 'gpu_id': -1, 'grow_policy': 'depthwise', 'importance_type': None, 'interaction_constraints': '', 'learning_rate': 0.300000012, 'max_bin': 256, 'max_cat_to_onehot': 4, 'max_delta_step': 0, 'max_depth': 6, 'max_leaves': 0, 'min_child_weight': 1, 'missing': nan, 'monotone_constraints': '()', 'n_estimators': 100, 'n_jobs': 0, 'num_parallel_tree': 1, 'predictor': 'auto', 'random_state': 0, 'reg_alpha': 0, 'reg_lambda': 1, 'sampling_method': 'uniform', 'scale_pos_weight': 1, 'subsample': 1, 'tree_method': 'approx', 'validate_parameters': 1, 'verbosity': None}\n"
     ]
    }
   ],
   "source": [
    "import xgboost as xgb\n",
    "\n",
    "train = xgb.DMatrix(x_train, outcome_train)\n",
    "test = xgb.DMatrix(x_test, outcome_test)\n",
    "\n",
    "xgbclass_1 = xgb.XGBClassifier(\n",
    "    eval_metric='auc'\n",
    ")\n",
    "\n",
    "xgbclass_1.fit(\n",
    "    x_train,\n",
    "    outcome_train,\n",
    "    eval_set=[(x_train, outcome_train), (x_test, outcome_test)]\n",
    ")\n",
    "print(xgbclass_1.get_params())"
   ]
  },
  {
   "cell_type": "code",
   "execution_count": 25,
   "metadata": {},
   "outputs": [],
   "source": [
    "# import hyperopt\n",
    "# from hyperopt import fmin, tpe, hp, STATUS_OK, Trials\n",
    "# \n",
    "# # space = {\n",
    "# #     'max_depth': hp.quniform('max_depth', 3, 18, 1),\n",
    "# #     'gamma': hp.uniform('gamma', 1, 9),\n",
    "# #     'reg_alpha': hp.quniform('reg_alpha', 40, 180, 1),\n",
    "# #     'reg_lambda': hp.uniform('reg_lambda', 0, 1),\n",
    "# #     'colsample_bytree': hp.uniform('colsample_bytree', .5, 1),\n",
    "# #     'min_child_weight': hp.quniform('min_child_weight', 0, 10, 1),\n",
    "# #     'scale_pos_weight': hp.quniform('scale_pos_weight', 1,4,1),\n",
    "# #     # 'subsample': hp.uniform('subsample', .5, 1, .1),\n",
    "# #     # 'eval_metric': hp.choice('eval_metric', ['logloss', 'auc', 'aucpr']),\n",
    "# #     'n_estimators': 100\n",
    "# # }\n",
    "# \n",
    "# space={'max_depth': hp.quniform(\"max_depth\", 3, 18, 1),\n",
    "#         'gamma': hp.uniform ('gamma', 1,9),\n",
    "#         'reg_alpha' : hp.quniform('reg_alpha', 40,180,1),\n",
    "#         'reg_lambda' : hp.uniform('reg_lambda', 0,1),\n",
    "#         'colsample_bytree' : hp.uniform('colsample_bytree', 0.5,1),\n",
    "#         'min_child_weight' : hp.quniform('min_child_weight', 0, 10, 1),\n",
    "#         # 'eval_metric': hp.choice('eval_metric', ['logloss', 'auc', 'rmse']),\n",
    "#         'eval_metric': 'auc',\n",
    "#         'objective': 'binary:logistic',\n",
    "#         'booster': 'gbtree',\n",
    "#         'n_estimators': 180\n",
    "#     }\n",
    "# # Classifier:\n",
    "# def hyperparameter_tuning(space):\n",
    "#     model = xgb.XGBClassifier(\n",
    "#         n_estimators =space['n_estimators'],\n",
    "#         max_depth = int(space['max_depth']),\n",
    "#         gamma = space['gamma'],\n",
    "#         reg_alpha = int(space['reg_alpha']),\n",
    "#         min_child_weight=space['min_child_weight'],\n",
    "#         colsample_bytree=space['colsample_bytree'],\n",
    "#         eval_metric=space['eval_metric'],\n",
    "#         early_stopping_rounds=10\n",
    "#     )\n",
    "#     evaluation = [( x_train, outcome_train), ( x_test, outcome_test)]\n",
    "#     \n",
    "#     model.fit(\n",
    "#         x_train,\n",
    "#         outcome_train,\n",
    "#         eval_set=evaluation,\n",
    "#         # eval_metric=\"auc\",\n",
    "#         # early_stopping_rounds=10,\n",
    "#         verbose=False)\n",
    "# \n",
    "#     pred = model.predict(x_test)\n",
    "#     # roc_auc = roc_auc_score(outcome_test, pred)\n",
    "#     accuracy = accuracy_score(outcome_test, pred>.5)\n",
    "#     print (\"SCORE:\", accuracy)\n",
    "#     #change the metric if you like\n",
    "#     return {'loss': -accuracy, 'status': STATUS_OK, 'model': model}\n",
    "# trials = Trials()\n",
    "# best_hyperparams = fmin(fn=hyperparameter_tuning,\n",
    "#             space=space,\n",
    "#             algo=tpe.suggest,\n",
    "#             max_evals=100,\n",
    "#             trials=trials)\n",
    "# \n",
    "# print(best_hyperparams)\n",
    "# import json\n",
    "# with open('xg_tuned_params.json', 'w') as outfile:\n",
    "#     json.dump(best_hyperparams, outfile, indent=4)"
   ]
  },
  {
   "cell_type": "code",
   "execution_count": 14,
   "metadata": {},
   "outputs": [
    {
     "name": "stderr",
     "output_type": "stream",
     "text": [
      "/home/eric/Repos/risk/venv/lib/python3.10/site-packages/xgboost/sklearn.py:793: UserWarning: `eval_metric` in `fit` method is deprecated for better compatibility with scikit-learn, use `eval_metric` in constructor or`set_params` instead.\n",
      "  warnings.warn(\n"
     ]
    },
    {
     "name": "stdout",
     "output_type": "stream",
     "text": [
      "[0]\tvalidation_0-auc:0.83210\tvalidation_1-auc:0.83163\n",
      "[1]\tvalidation_0-auc:0.83300\tvalidation_1-auc:0.83252\n",
      "[2]\tvalidation_0-auc:0.92940\tvalidation_1-auc:0.92913\n",
      "[3]\tvalidation_0-auc:0.91317\tvalidation_1-auc:0.91284\n",
      "[4]\tvalidation_0-auc:0.94380\tvalidation_1-auc:0.94358\n",
      "[5]\tvalidation_0-auc:0.93485\tvalidation_1-auc:0.93459\n",
      "[6]\tvalidation_0-auc:0.92793\tvalidation_1-auc:0.92765\n",
      "[7]\tvalidation_0-auc:0.94471\tvalidation_1-auc:0.94449\n",
      "[8]\tvalidation_0-auc:0.94019\tvalidation_1-auc:0.93996\n",
      "[9]\tvalidation_0-auc:0.94833\tvalidation_1-auc:0.94813\n",
      "[10]\tvalidation_0-auc:0.94556\tvalidation_1-auc:0.94534\n",
      "[11]\tvalidation_0-auc:0.94306\tvalidation_1-auc:0.94283\n",
      "[12]\tvalidation_0-auc:0.94109\tvalidation_1-auc:0.94085\n",
      "[13]\tvalidation_0-auc:0.94780\tvalidation_1-auc:0.94759\n",
      "[14]\tvalidation_0-auc:0.95030\tvalidation_1-auc:0.95011\n",
      "[15]\tvalidation_0-auc:0.95091\tvalidation_1-auc:0.95073\n",
      "[16]\tvalidation_0-auc:0.95073\tvalidation_1-auc:0.95056\n",
      "[17]\tvalidation_0-auc:0.95029\tvalidation_1-auc:0.95014\n",
      "[18]\tvalidation_0-auc:0.95108\tvalidation_1-auc:0.95091\n",
      "[19]\tvalidation_0-auc:0.95087\tvalidation_1-auc:0.95070\n",
      "[20]\tvalidation_0-auc:0.95117\tvalidation_1-auc:0.95099\n",
      "[21]\tvalidation_0-auc:0.95107\tvalidation_1-auc:0.95091\n",
      "[22]\tvalidation_0-auc:0.95119\tvalidation_1-auc:0.95102\n",
      "[23]\tvalidation_0-auc:0.95095\tvalidation_1-auc:0.95078\n",
      "[24]\tvalidation_0-auc:0.95127\tvalidation_1-auc:0.95110\n",
      "[25]\tvalidation_0-auc:0.95130\tvalidation_1-auc:0.95113\n",
      "[26]\tvalidation_0-auc:0.95130\tvalidation_1-auc:0.95112\n",
      "[27]\tvalidation_0-auc:0.95137\tvalidation_1-auc:0.95120\n",
      "[28]\tvalidation_0-auc:0.95132\tvalidation_1-auc:0.95115\n",
      "[29]\tvalidation_0-auc:0.95124\tvalidation_1-auc:0.95107\n",
      "[30]\tvalidation_0-auc:0.95143\tvalidation_1-auc:0.95126\n",
      "[31]\tvalidation_0-auc:0.95139\tvalidation_1-auc:0.95121\n",
      "[32]\tvalidation_0-auc:0.95127\tvalidation_1-auc:0.95110\n",
      "[33]\tvalidation_0-auc:0.95146\tvalidation_1-auc:0.95129\n",
      "[34]\tvalidation_0-auc:0.95138\tvalidation_1-auc:0.95120\n",
      "[35]\tvalidation_0-auc:0.95151\tvalidation_1-auc:0.95134\n",
      "[36]\tvalidation_0-auc:0.95145\tvalidation_1-auc:0.95127\n",
      "[37]\tvalidation_0-auc:0.95154\tvalidation_1-auc:0.95137\n",
      "[38]\tvalidation_0-auc:0.95155\tvalidation_1-auc:0.95138\n",
      "[39]\tvalidation_0-auc:0.95154\tvalidation_1-auc:0.95137\n",
      "[40]\tvalidation_0-auc:0.95151\tvalidation_1-auc:0.95134\n",
      "[41]\tvalidation_0-auc:0.95158\tvalidation_1-auc:0.95141\n",
      "[42]\tvalidation_0-auc:0.95157\tvalidation_1-auc:0.95141\n",
      "[43]\tvalidation_0-auc:0.95155\tvalidation_1-auc:0.95138\n",
      "[44]\tvalidation_0-auc:0.95161\tvalidation_1-auc:0.95144\n",
      "[45]\tvalidation_0-auc:0.95160\tvalidation_1-auc:0.95143\n",
      "[46]\tvalidation_0-auc:0.95159\tvalidation_1-auc:0.95142\n",
      "[47]\tvalidation_0-auc:0.95157\tvalidation_1-auc:0.95140\n",
      "[48]\tvalidation_0-auc:0.95156\tvalidation_1-auc:0.95139\n",
      "[49]\tvalidation_0-auc:0.95163\tvalidation_1-auc:0.95146\n",
      "[50]\tvalidation_0-auc:0.95163\tvalidation_1-auc:0.95146\n",
      "[51]\tvalidation_0-auc:0.95164\tvalidation_1-auc:0.95147\n",
      "[52]\tvalidation_0-auc:0.95164\tvalidation_1-auc:0.95147\n",
      "[53]\tvalidation_0-auc:0.95163\tvalidation_1-auc:0.95146\n",
      "[54]\tvalidation_0-auc:0.95162\tvalidation_1-auc:0.95145\n",
      "[55]\tvalidation_0-auc:0.95161\tvalidation_1-auc:0.95144\n",
      "[56]\tvalidation_0-auc:0.95166\tvalidation_1-auc:0.95148\n",
      "[57]\tvalidation_0-auc:0.95165\tvalidation_1-auc:0.95148\n",
      "[58]\tvalidation_0-auc:0.95164\tvalidation_1-auc:0.95147\n",
      "[59]\tvalidation_0-auc:0.95163\tvalidation_1-auc:0.95146\n",
      "[60]\tvalidation_0-auc:0.95163\tvalidation_1-auc:0.95146\n",
      "[61]\tvalidation_0-auc:0.95162\tvalidation_1-auc:0.95145\n",
      "[62]\tvalidation_0-auc:0.95162\tvalidation_1-auc:0.95145\n",
      "[63]\tvalidation_0-auc:0.95162\tvalidation_1-auc:0.95145\n",
      "[64]\tvalidation_0-auc:0.95167\tvalidation_1-auc:0.95149\n",
      "[65]\tvalidation_0-auc:0.95166\tvalidation_1-auc:0.95149\n",
      "[66]\tvalidation_0-auc:0.95168\tvalidation_1-auc:0.95150\n",
      "[67]\tvalidation_0-auc:0.95167\tvalidation_1-auc:0.95150\n",
      "[68]\tvalidation_0-auc:0.95168\tvalidation_1-auc:0.95151\n",
      "[69]\tvalidation_0-auc:0.95167\tvalidation_1-auc:0.95150\n",
      "[70]\tvalidation_0-auc:0.95167\tvalidation_1-auc:0.95149\n",
      "[71]\tvalidation_0-auc:0.95168\tvalidation_1-auc:0.95151\n",
      "[72]\tvalidation_0-auc:0.95169\tvalidation_1-auc:0.95151\n",
      "[73]\tvalidation_0-auc:0.95169\tvalidation_1-auc:0.95151\n",
      "[74]\tvalidation_0-auc:0.95168\tvalidation_1-auc:0.95151\n",
      "[75]\tvalidation_0-auc:0.95169\tvalidation_1-auc:0.95152\n",
      "[76]\tvalidation_0-auc:0.95169\tvalidation_1-auc:0.95151\n",
      "[77]\tvalidation_0-auc:0.95168\tvalidation_1-auc:0.95151\n",
      "[78]\tvalidation_0-auc:0.95168\tvalidation_1-auc:0.95150\n",
      "[79]\tvalidation_0-auc:0.95167\tvalidation_1-auc:0.95150\n",
      "[80]\tvalidation_0-auc:0.95169\tvalidation_1-auc:0.95151\n",
      "[81]\tvalidation_0-auc:0.95169\tvalidation_1-auc:0.95151\n",
      "[82]\tvalidation_0-auc:0.95168\tvalidation_1-auc:0.95151\n",
      "[83]\tvalidation_0-auc:0.95170\tvalidation_1-auc:0.95152\n",
      "[84]\tvalidation_0-auc:0.95170\tvalidation_1-auc:0.95152\n",
      "[85]\tvalidation_0-auc:0.95170\tvalidation_1-auc:0.95152\n",
      "[86]\tvalidation_0-auc:0.95169\tvalidation_1-auc:0.95152\n",
      "[87]\tvalidation_0-auc:0.95169\tvalidation_1-auc:0.95151\n",
      "[88]\tvalidation_0-auc:0.95170\tvalidation_1-auc:0.95152\n",
      "[89]\tvalidation_0-auc:0.95169\tvalidation_1-auc:0.95152\n",
      "[90]\tvalidation_0-auc:0.95170\tvalidation_1-auc:0.95152\n",
      "[91]\tvalidation_0-auc:0.95170\tvalidation_1-auc:0.95152\n",
      "[92]\tvalidation_0-auc:0.95169\tvalidation_1-auc:0.95152\n",
      "[93]\tvalidation_0-auc:0.95169\tvalidation_1-auc:0.95152\n",
      "[94]\tvalidation_0-auc:0.95169\tvalidation_1-auc:0.95152\n",
      "[95]\tvalidation_0-auc:0.95170\tvalidation_1-auc:0.95152\n",
      "[96]\tvalidation_0-auc:0.95170\tvalidation_1-auc:0.95153\n",
      "[97]\tvalidation_0-auc:0.95170\tvalidation_1-auc:0.95153\n",
      "[98]\tvalidation_0-auc:0.95170\tvalidation_1-auc:0.95153\n",
      "[99]\tvalidation_0-auc:0.95170\tvalidation_1-auc:0.95152\n"
     ]
    },
    {
     "data": {
      "text/html": [
       "<style>#sk-container-id-1 {color: black;background-color: white;}#sk-container-id-1 pre{padding: 0;}#sk-container-id-1 div.sk-toggleable {background-color: white;}#sk-container-id-1 label.sk-toggleable__label {cursor: pointer;display: block;width: 100%;margin-bottom: 0;padding: 0.3em;box-sizing: border-box;text-align: center;}#sk-container-id-1 label.sk-toggleable__label-arrow:before {content: \"▸\";float: left;margin-right: 0.25em;color: #696969;}#sk-container-id-1 label.sk-toggleable__label-arrow:hover:before {color: black;}#sk-container-id-1 div.sk-estimator:hover label.sk-toggleable__label-arrow:before {color: black;}#sk-container-id-1 div.sk-toggleable__content {max-height: 0;max-width: 0;overflow: hidden;text-align: left;background-color: #f0f8ff;}#sk-container-id-1 div.sk-toggleable__content pre {margin: 0.2em;color: black;border-radius: 0.25em;background-color: #f0f8ff;}#sk-container-id-1 input.sk-toggleable__control:checked~div.sk-toggleable__content {max-height: 200px;max-width: 100%;overflow: auto;}#sk-container-id-1 input.sk-toggleable__control:checked~label.sk-toggleable__label-arrow:before {content: \"▾\";}#sk-container-id-1 div.sk-estimator input.sk-toggleable__control:checked~label.sk-toggleable__label {background-color: #d4ebff;}#sk-container-id-1 div.sk-label input.sk-toggleable__control:checked~label.sk-toggleable__label {background-color: #d4ebff;}#sk-container-id-1 input.sk-hidden--visually {border: 0;clip: rect(1px 1px 1px 1px);clip: rect(1px, 1px, 1px, 1px);height: 1px;margin: -1px;overflow: hidden;padding: 0;position: absolute;width: 1px;}#sk-container-id-1 div.sk-estimator {font-family: monospace;background-color: #f0f8ff;border: 1px dotted black;border-radius: 0.25em;box-sizing: border-box;margin-bottom: 0.5em;}#sk-container-id-1 div.sk-estimator:hover {background-color: #d4ebff;}#sk-container-id-1 div.sk-parallel-item::after {content: \"\";width: 100%;border-bottom: 1px solid gray;flex-grow: 1;}#sk-container-id-1 div.sk-label:hover label.sk-toggleable__label {background-color: #d4ebff;}#sk-container-id-1 div.sk-serial::before {content: \"\";position: absolute;border-left: 1px solid gray;box-sizing: border-box;top: 0;bottom: 0;left: 50%;z-index: 0;}#sk-container-id-1 div.sk-serial {display: flex;flex-direction: column;align-items: center;background-color: white;padding-right: 0.2em;padding-left: 0.2em;position: relative;}#sk-container-id-1 div.sk-item {position: relative;z-index: 1;}#sk-container-id-1 div.sk-parallel {display: flex;align-items: stretch;justify-content: center;background-color: white;position: relative;}#sk-container-id-1 div.sk-item::before, #sk-container-id-1 div.sk-parallel-item::before {content: \"\";position: absolute;border-left: 1px solid gray;box-sizing: border-box;top: 0;bottom: 0;left: 50%;z-index: -1;}#sk-container-id-1 div.sk-parallel-item {display: flex;flex-direction: column;z-index: 1;position: relative;background-color: white;}#sk-container-id-1 div.sk-parallel-item:first-child::after {align-self: flex-end;width: 50%;}#sk-container-id-1 div.sk-parallel-item:last-child::after {align-self: flex-start;width: 50%;}#sk-container-id-1 div.sk-parallel-item:only-child::after {width: 0;}#sk-container-id-1 div.sk-dashed-wrapped {border: 1px dashed gray;margin: 0 0.4em 0.5em 0.4em;box-sizing: border-box;padding-bottom: 0.4em;background-color: white;}#sk-container-id-1 div.sk-label label {font-family: monospace;font-weight: bold;display: inline-block;line-height: 1.2em;}#sk-container-id-1 div.sk-label-container {text-align: center;}#sk-container-id-1 div.sk-container {/* jupyter's `normalize.less` sets `[hidden] { display: none; }` but bootstrap.min.css set `[hidden] { display: none !important; }` so we also need the `!important` here to be able to override the default hidden behavior on the sphinx rendered scikit-learn.org. See: https://github.com/scikit-learn/scikit-learn/issues/21755 */display: inline-block !important;position: relative;}#sk-container-id-1 div.sk-text-repr-fallback {display: none;}</style><div id=\"sk-container-id-1\" class=\"sk-top-container\"><div class=\"sk-text-repr-fallback\"><pre>XGBClassifier(base_score=0.5, booster=&#x27;gbtree&#x27;, callbacks=None,\n",
       "              colsample_bylevel=1, colsample_bynode=1,\n",
       "              colsample_bytree=0.9513103219715219, early_stopping_rounds=None,\n",
       "              enable_categorical=False, eval_metric=None,\n",
       "              gamma=3.4150799761829074, gpu_id=-1, grow_policy=&#x27;depthwise&#x27;,\n",
       "              importance_type=None, interaction_constraints=&#x27;&#x27;,\n",
       "              learning_rate=0.300000012, max_bin=256, max_cat_to_onehot=4,\n",
       "              max_delta_step=0, max_depth=4, max_leaves=0, min_child_weight=9,\n",
       "              missing=nan, monotone_constraints=&#x27;()&#x27;, n_estimators=100,\n",
       "              n_jobs=0, num_parallel_tree=1, predictor=&#x27;auto&#x27;, random_state=0,\n",
       "              reg_alpha=54, reg_lambda=0.8655452839992828, ...)</pre><b>In a Jupyter environment, please rerun this cell to show the HTML representation or trust the notebook. <br />On GitHub, the HTML representation is unable to render, please try loading this page with nbviewer.org.</b></div><div class=\"sk-container\" hidden><div class=\"sk-item\"><div class=\"sk-estimator sk-toggleable\"><input class=\"sk-toggleable__control sk-hidden--visually\" id=\"sk-estimator-id-1\" type=\"checkbox\" checked><label for=\"sk-estimator-id-1\" class=\"sk-toggleable__label sk-toggleable__label-arrow\">XGBClassifier</label><div class=\"sk-toggleable__content\"><pre>XGBClassifier(base_score=0.5, booster=&#x27;gbtree&#x27;, callbacks=None,\n",
       "              colsample_bylevel=1, colsample_bynode=1,\n",
       "              colsample_bytree=0.9513103219715219, early_stopping_rounds=None,\n",
       "              enable_categorical=False, eval_metric=None,\n",
       "              gamma=3.4150799761829074, gpu_id=-1, grow_policy=&#x27;depthwise&#x27;,\n",
       "              importance_type=None, interaction_constraints=&#x27;&#x27;,\n",
       "              learning_rate=0.300000012, max_bin=256, max_cat_to_onehot=4,\n",
       "              max_delta_step=0, max_depth=4, max_leaves=0, min_child_weight=9,\n",
       "              missing=nan, monotone_constraints=&#x27;()&#x27;, n_estimators=100,\n",
       "              n_jobs=0, num_parallel_tree=1, predictor=&#x27;auto&#x27;, random_state=0,\n",
       "              reg_alpha=54, reg_lambda=0.8655452839992828, ...)</pre></div></div></div></div></div>"
      ],
      "text/plain": [
       "XGBClassifier(base_score=0.5, booster='gbtree', callbacks=None,\n",
       "              colsample_bylevel=1, colsample_bynode=1,\n",
       "              colsample_bytree=0.9513103219715219, early_stopping_rounds=None,\n",
       "              enable_categorical=False, eval_metric=None,\n",
       "              gamma=3.4150799761829074, gpu_id=-1, grow_policy='depthwise',\n",
       "              importance_type=None, interaction_constraints='',\n",
       "              learning_rate=0.300000012, max_bin=256, max_cat_to_onehot=4,\n",
       "              max_delta_step=0, max_depth=4, max_leaves=0, min_child_weight=9,\n",
       "              missing=nan, monotone_constraints='()', n_estimators=100,\n",
       "              n_jobs=0, num_parallel_tree=1, predictor='auto', random_state=0,\n",
       "              reg_alpha=54, reg_lambda=0.8655452839992828, ...)"
      ]
     },
     "execution_count": 14,
     "metadata": {},
     "output_type": "execute_result"
    }
   ],
   "source": [
    "evaluation = [(x_train, outcome_train), (x_test, outcome_test)]\n",
    "params = json.load(open('./xg_tuned_params.json'))\n",
    "xgbclass_tuned = xgb.XGBClassifier(**params)\n",
    "xgbclass_tuned.fit(\n",
    "    x_train,\n",
    "    outcome_train,\n",
    "    eval_set = evaluation,\n",
    "    eval_metric='auc'\n",
    ")"
   ]
  },
  {
   "cell_type": "code",
   "execution_count": 15,
   "metadata": {},
   "outputs": [
    {
     "name": "stderr",
     "output_type": "stream",
     "text": [
      "/home/eric/Repos/risk/venv/lib/python3.10/site-packages/xgboost/core.py:91: UserWarning: ntree_limit is deprecated, use `iteration_range` or model slicing instead.\n",
      "  warnings.warn(\n"
     ]
    }
   ],
   "source": [
    "xgbclass_tuned.predict(x_test, ntree_limit=xgbclass_tuned.best_ntree_limit)\n",
    "\n",
    "xgbclass_tuned.save_model('risk_outcome_xgb.json')"
   ]
  },
  {
   "cell_type": "code",
   "execution_count": 16,
   "metadata": {},
   "outputs": [
    {
     "data": {
      "image/png": "[encoded data removed]",
      "text/plain": [
       "<Figure size 1000x700 with 2 Axes>"
      ]
     },
     "metadata": {},
     "output_type": "display_data"
    }
   ],
   "source": [
    "make_confusion_matrix(\n",
    "    model=xgbclass_tuned,\n",
    "    x=x_test,\n",
    "    y=outcome_test\n",
    ")"
   ]
  },
  {
   "cell_type": "code",
   "execution_count": 17,
   "metadata": {},
   "outputs": [
    {
     "data": {
      "text/html": [
       "<div>\n",
       "<style scoped>\n",
       "    .dataframe tbody tr th:only-of-type {\n",
       "        vertical-align: middle;\n",
       "    }\n",
       "\n",
       "    .dataframe tbody tr th {\n",
       "        vertical-align: top;\n",
       "    }\n",
       "\n",
       "    .dataframe thead th {\n",
       "        text-align: right;\n",
       "    }\n",
       "</style>\n",
       "<table border=\"1\" class=\"dataframe\">\n",
       "  <thead>\n",
       "    <tr style=\"text-align: right;\">\n",
       "      <th></th>\n",
       "      <th>Title</th>\n",
       "      <th>Accuracy</th>\n",
       "      <th>Recall</th>\n",
       "      <th>Precision</th>\n",
       "      <th>F1 Score</th>\n",
       "    </tr>\n",
       "  </thead>\n",
       "  <tbody>\n",
       "    <tr>\n",
       "      <th>0</th>\n",
       "      <td>xgb_tuned_train</td>\n",
       "      <td>0.872573</td>\n",
       "      <td>0.890435</td>\n",
       "      <td>0.876699</td>\n",
       "      <td>0.883514</td>\n",
       "    </tr>\n",
       "  </tbody>\n",
       "</table>\n",
       "</div>"
      ],
      "text/plain": [
       "             Title  Accuracy    Recall  Precision  F1 Score\n",
       "0  xgb_tuned_train  0.872573  0.890435   0.876699  0.883514"
      ]
     },
     "execution_count": 17,
     "metadata": {},
     "output_type": "execute_result"
    }
   ],
   "source": [
    "get_model_scores(\n",
    "    model=xgbclass_tuned,\n",
    "    x=x_train,\n",
    "    y=outcome_train,\n",
    "    title='xgb_tuned_train'\n",
    ")"
   ]
  },
  {
   "cell_type": "code",
   "execution_count": 18,
   "metadata": {},
   "outputs": [
    {
     "data": {
      "text/html": [
       "<div>\n",
       "<style scoped>\n",
       "    .dataframe tbody tr th:only-of-type {\n",
       "        vertical-align: middle;\n",
       "    }\n",
       "\n",
       "    .dataframe tbody tr th {\n",
       "        vertical-align: top;\n",
       "    }\n",
       "\n",
       "    .dataframe thead th {\n",
       "        text-align: right;\n",
       "    }\n",
       "</style>\n",
       "<table border=\"1\" class=\"dataframe\">\n",
       "  <thead>\n",
       "    <tr style=\"text-align: right;\">\n",
       "      <th></th>\n",
       "      <th>Title</th>\n",
       "      <th>Accuracy</th>\n",
       "      <th>Recall</th>\n",
       "      <th>Precision</th>\n",
       "      <th>F1 Score</th>\n",
       "    </tr>\n",
       "  </thead>\n",
       "  <tbody>\n",
       "    <tr>\n",
       "      <th>0</th>\n",
       "      <td>xgb_tuned_test</td>\n",
       "      <td>0.872384</td>\n",
       "      <td>0.889953</td>\n",
       "      <td>0.876757</td>\n",
       "      <td>0.883305</td>\n",
       "    </tr>\n",
       "  </tbody>\n",
       "</table>\n",
       "</div>"
      ],
      "text/plain": [
       "            Title  Accuracy    Recall  Precision  F1 Score\n",
       "0  xgb_tuned_test  0.872384  0.889953   0.876757  0.883305"
      ]
     },
     "execution_count": 18,
     "metadata": {},
     "output_type": "execute_result"
    }
   ],
   "source": [
    "get_model_scores(\n",
    "    model=xgbclass_tuned,\n",
    "    x=x_test,\n",
    "    y=outcome_test,\n",
    "    title='xgb_tuned_test'\n",
    ")"
   ]
  },
  {
   "cell_type": "code",
   "execution_count": 20,
   "metadata": {},
   "outputs": [
    {
     "data": {
      "text/plain": [
       "array([[0.5019611 , 0.49803886]], dtype=float32)"
      ]
     },
     "execution_count": 20,
     "metadata": {},
     "output_type": "execute_result"
    }
   ],
   "source": [
    "atk_str = 5\n",
    "def_str = 5\n",
    "prediction = xgbclass_tuned.predict_proba(\n",
    "        pd.DataFrame(\n",
    "        {\n",
    "            #'const': 1.0,\n",
    "            'atk_strength': atk_str,\n",
    "            'def_strength': def_str\n",
    "        },\n",
    "        index=[0]\n",
    "    )\n",
    ")\n",
    "prediction"
   ]
  }
 ],
 "metadata": {
  "kernelspec": {
   "display_name": "Python 3.10.6 ('venv': venv)",
   "language": "python",
   "name": "python3"
  },
  "language_info": {
   "codemirror_mode": {
    "name": "ipython",
    "version": 3
   },
   "file_extension": ".py",
   "mimetype": "text/x-python",
   "name": "python",
   "nbconvert_exporter": "python",
   "pygments_lexer": "ipython3",
   "version": "3.10.6"
  },
  "orig_nbformat": 4,
  "vscode": {
   "interpreter": {
    "hash": "3ec33c5093571424c8d0515c534529c4a7c91961c9bf2b854c6c5138a9ae0156"
   }
  }
 },
 "nbformat": 4,
 "nbformat_minor": 2
}
